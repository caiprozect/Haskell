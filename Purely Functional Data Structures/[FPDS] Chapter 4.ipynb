{
 "cells": [
  {
   "cell_type": "code",
   "execution_count": 4,
   "metadata": {},
   "outputs": [],
   "source": [
    "--Exercise 4.2\n",
    "insertionSort :: Ord a => [a] -> [a]\n",
    "insertionSort = foldl insert [] \n",
    "    where \n",
    "        insert [] x = [x]\n",
    "        insert (y : ys) x\n",
    "            | x <= y = x : y : ys\n",
    "            | otherwise = y : insert ys x"
   ]
  },
  {
   "cell_type": "code",
   "execution_count": null,
   "metadata": {},
   "outputs": [],
   "source": []
  }
 ],
 "metadata": {
  "kernelspec": {
   "display_name": "Haskell",
   "language": "haskell",
   "name": "haskell"
  },
  "language_info": {
   "codemirror_mode": "ihaskell",
   "file_extension": ".hs",
   "name": "haskell",
   "pygments_lexer": "Haskell",
   "version": "8.6.5"
  }
 },
 "nbformat": 4,
 "nbformat_minor": 2
}
