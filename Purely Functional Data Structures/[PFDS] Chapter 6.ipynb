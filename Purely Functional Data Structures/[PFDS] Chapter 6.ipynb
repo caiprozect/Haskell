{
 "cells": [
  {
   "cell_type": "code",
   "execution_count": 1,
   "metadata": {},
   "outputs": [],
   "source": [
    ":l Queue.hs"
   ]
  },
  {
   "cell_type": "code",
   "execution_count": 4,
   "metadata": {},
   "outputs": [],
   "source": [
    "--BankersQueue\n",
    "module BankersQueue (BankersQueue) where\n",
    "\n",
    "import Prelude hiding (head, tail)\n",
    "import Queue\n",
    "\n",
    "data BankersQueue a = BQ Int [a] Int [a]\n",
    "\n",
    "check lenf f lenr r = \n",
    "    if lenf <= lenr then BQ lenf f lenr r else BQ (lenf + lenr) (f ++ reverse r) 0 []\n",
    "    \n",
    "instance Queue BankersQueue where\n",
    "    empty = BQ 0 [] 0 []\n",
    "    isEmpty (BQ lenf _ _ _) = lenf == 0\n",
    "    \n",
    "    snoc (BQ lenf f lenr r) x = check lenf f (lenr + 1) (x : r)\n",
    "    \n",
    "    head (BQ lenf [] lenr r) = error \"Error: Empty Queue\"\n",
    "    head (BQ lenf (x : f') lenr r) = x\n",
    "    \n",
    "    tail (BQ lenf [] lenr r) = error \"Error: Empty Queue\"\n",
    "    tail (BQ lenf (x : f') lenr r) = check (lenf - 1) f' lenr r"
   ]
  },
  {
   "cell_type": "code",
   "execution_count": 5,
   "metadata": {},
   "outputs": [],
   "source": [
    ":l Heap.hs"
   ]
  },
  {
   "cell_type": "code",
   "execution_count": 10,
   "metadata": {},
   "outputs": [],
   "source": [
    "--Exercise 6.5\n",
    "module SizedHeap where\n",
    "\n",
    "import qualified Heap as H\n",
    "\n",
    "data SizedHeap h a = SH !Int (h a) deriving (Show)\n",
    "\n",
    "instance H.Heap h => H.Heap (SizedHeap h) where\n",
    "    empty = SH 0 H.empty\n",
    "    \n",
    "    isEmpty (SH s h) = s == 0 \n",
    "    \n",
    "    insert x (SH s h) = SH (s+1) (H.insert x h)\n",
    "    \n",
    "    merge (SH s1 h1) (SH s2 h2) = SH (s1+s2) (H.merge h1 h2)\n",
    "    \n",
    "    findMin (SH s h) = H.findMin h\n",
    "    \n",
    "    deleteMin (SH s h) = SH (s-1) (H.deleteMin h)"
   ]
  },
  {
   "cell_type": "code",
   "execution_count": 11,
   "metadata": {},
   "outputs": [
    {
     "data": {
      "text/plain": [
       "SH 8 (BH [Node {_rank = 3, _value = 1, _children = [Node {_rank = 2, _value = 5, _children = [Node {_rank = 1, _value = 7, _children = [Node {_rank = 0, _value = 8, _children = []}]},Node {_rank = 0, _value = 6, _children = []}]},Node {_rank = 1, _value = 3, _children = [Node {_rank = 0, _value = 4, _children = []}]},Node {_rank = 0, _value = 2, _children = []}]}])"
      ]
     },
     "metadata": {},
     "output_type": "display_data"
    }
   ],
   "source": [
    "--Exercise 6.5\n",
    ":l BinomialHeap.hs\n",
    ":l SizedHeap.hs\n",
    "\n",
    "import Heap\n",
    "import BinomialHeap\n",
    "import SizedHeap\n",
    "\n",
    "main :: IO ()\n",
    "main = do\n",
    "    print $ (foldr insert empty [1..8] :: SizedHeap BHeap Int)\n",
    "    \n",
    "main"
   ]
  },
  {
   "cell_type": "code",
   "execution_count": 18,
   "metadata": {},
   "outputs": [
    {
     "ename": "",
     "evalue": "",
     "output_type": "error",
     "traceback": [
      "Parse error (line 4, column 1): parse error on input ‘module’"
     ]
    }
   ],
   "source": [
    "--PhysicistsQueue\n",
    ":l Queue.hs\n",
    "\n",
    "module PhysicistsQueue (PhysiciststQueue) where\n",
    "\n",
    "import Prelude hiding (head, tail)\n",
    "import Queue\n",
    "\n",
    "data PhysicistsQueue a = PQ [a] Int [a] Int [a]\n",
    "\n",
    "check w lenf f lenr r = if lenr <= lenf \n",
    "    then check w lenf f lenr r\n",
    "    else checkw f (lenf+lenr) (f ++ reverse r) 0 []\n",
    "    \n",
    "checkw [] lenf f lenr r = PQ f lenf f lenr r\n",
    "checkw w lenf f lenr r = PQ w lenf f lenr r\n",
    "\n",
    "instance Queue PhysicistsQueue where \n",
    "    empty = PQ [] 0 [] 0 []\n",
    "    isEmpty (PQ w lenf f lenr r) = lenf == 0\n",
    "    \n",
    "    snoc (PQ w lenf f lenr r) x = check w lenf f (lenr+1) (x : r)\n",
    "    \n",
    "    head (PQ [] lenf f lenr r) = error \"Error: Empty Queue\"\n",
    "    head (PQ (x : w) lenf f lenr r) = x\n",
    "    \n",
    "    tail (PQ [] lenf f lenr r) = error \"Error: Empty Queue\"\n",
    "    tail (PQ (x : w) lenf f lenr r) = check w (lenf-1) (Prelude.tail f) lenr r"
   ]
  },
  {
   "cell_type": "code",
   "execution_count": 19,
   "metadata": {},
   "outputs": [],
   "source": [
    "--Sortable Collections\n",
    "module Sortable (Sortable(..)) where\n",
    "    class Sortable s where\n",
    "        empty :: Ord a => s a\n",
    "        add :: Ord a => a -> s a -> s a\n",
    "        sort :: Ord a => s a -> [a]"
   ]
  },
  {
   "cell_type": "code",
   "execution_count": 20,
   "metadata": {},
   "outputs": [],
   "source": [
    ":l Sortable.hs"
   ]
  },
  {
   "cell_type": "code",
   "execution_count": 21,
   "metadata": {},
   "outputs": [],
   "source": [
    "module BottomUpMergeSort (MergeSort) where\n",
    "    import Sortable\n",
    "    \n",
    "    data MergeSort a = MS Int [[a]]\n",
    "    \n",
    "    mrg [] ys = ys\n",
    "    mrg xs [] = xs\n",
    "    mrg xs@(x : xs') ys@(y : ys') = \n",
    "        if x <= y then x : mrg xs' ys else y : mrg xs ys'\n",
    "        \n",
    "    instance Sortable MergeSort where\n",
    "        empty = MS 0 []\n",
    "        \n",
    "        add x (MS size segs) = MS (size+1) (addSeg [x] segs size)\n",
    "            where addSeg seg segs size = \n",
    "                            if size `mod` 2 == 0 then seg : segs\n",
    "                            else addSeg (mrg seg (head segs)) (tail segs) (size `div` 2)\n",
    "                            \n",
    "        sort (MS size segs) = foldl mrg [] segs"
   ]
  },
  {
   "cell_type": "code",
   "execution_count": 24,
   "metadata": {},
   "outputs": [],
   "source": [
    "--Exercise 6.7 (b)\n",
    ":l BottomUpMergeSort.hs\n",
    "\n",
    "import BottomUpMergeSort\n",
    "\n",
    "extractSmallest :: Ord a => Int -> MergeSort a -> [a]\n",
    "extractSmallest k = take k . sort "
   ]
  },
  {
   "cell_type": "code",
   "execution_count": null,
   "metadata": {},
   "outputs": [],
   "source": []
  }
 ],
 "metadata": {
  "kernelspec": {
   "display_name": "Haskell",
   "language": "haskell",
   "name": "haskell"
  },
  "language_info": {
   "codemirror_mode": "ihaskell",
   "file_extension": ".hs",
   "name": "haskell",
   "pygments_lexer": "Haskell",
   "version": "8.6.5"
  }
 },
 "nbformat": 4,
 "nbformat_minor": 2
}
