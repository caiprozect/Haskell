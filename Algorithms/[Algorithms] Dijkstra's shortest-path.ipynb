{
 "cells": [
  {
   "cell_type": "code",
   "execution_count": 1,
   "metadata": {},
   "outputs": [],
   "source": [
    "import Data.Maybe\n",
    "import qualified Data.IntPSQ as H\n",
    "import qualified Data.HashMap as M\n",
    "import qualified Data.Char as C\n",
    "import Control.Monad.State.Lazy"
   ]
  },
  {
   "cell_type": "code",
   "execution_count": 2,
   "metadata": {},
   "outputs": [],
   "source": [
    "type Vertex = Int\n",
    "type Score = Int\n",
    "type Heap = H.IntPSQ Score Vertex\n",
    "type Map = M.Map Vertex Score"
   ]
  },
  {
   "cell_type": "code",
   "execution_count": 3,
   "metadata": {},
   "outputs": [],
   "source": [
    "rawFileString <- readFile \"./data/dijkstraData.txt\""
   ]
  },
  {
   "cell_type": "code",
   "execution_count": 4,
   "metadata": {},
   "outputs": [],
   "source": [
    "adjList = M.fromList . map (splitVE . words) . lines $ rawFileString\n",
    "    where \n",
    "        splitVE (x:xs) = (read x :: Int, parseEW xs)\n",
    "        parseEW = map (\\x -> read $ \"(\"++x++\")\" :: (Int, Int))"
   ]
  },
  {
   "cell_type": "code",
   "execution_count": 5,
   "metadata": {},
   "outputs": [],
   "source": [
    "insert :: Vertex -> Score -> Heap -> Heap\n",
    "insert v s = H.insert v s 0\n",
    "\n",
    "deleteView :: Vertex -> Heap -> (Vertex, Score, Heap)\n",
    "deleteView v h = \n",
    "    case H.deleteView v h of\n",
    "        Just (score, value, h_del) -> (v, score, h_del)\n",
    "        Nothing -> (v, 1000000, h)\n",
    "        \n",
    "minView :: Heap -> (Vertex, Score, Heap)\n",
    "minView h = \n",
    "    case H.minView h of\n",
    "        Just (vertex, score, value, h_pop) -> (vertex, score, h_pop)\n",
    "        Nothing -> (-1, -1, H.empty)"
   ]
  },
  {
   "cell_type": "code",
   "execution_count": 27,
   "metadata": {},
   "outputs": [
    {
     "data": {
      "text/html": [
       "<style>/* Styles used for the Hoogle display in the pager */\n",
       ".hoogle-doc {\n",
       "display: block;\n",
       "padding-bottom: 1.3em;\n",
       "padding-left: 0.4em;\n",
       "}\n",
       ".hoogle-code {\n",
       "display: block;\n",
       "font-family: monospace;\n",
       "white-space: pre;\n",
       "}\n",
       ".hoogle-text {\n",
       "display: block;\n",
       "}\n",
       ".hoogle-name {\n",
       "color: green;\n",
       "font-weight: bold;\n",
       "}\n",
       ".hoogle-head {\n",
       "font-weight: bold;\n",
       "}\n",
       ".hoogle-sub {\n",
       "display: block;\n",
       "margin-left: 0.4em;\n",
       "}\n",
       ".hoogle-package {\n",
       "font-weight: bold;\n",
       "font-style: italic;\n",
       "}\n",
       ".hoogle-module {\n",
       "font-weight: bold;\n",
       "}\n",
       ".hoogle-class {\n",
       "font-weight: bold;\n",
       "}\n",
       ".get-type {\n",
       "color: green;\n",
       "font-weight: bold;\n",
       "font-family: monospace;\n",
       "display: block;\n",
       "white-space: pre-wrap;\n",
       "}\n",
       ".show-type {\n",
       "color: green;\n",
       "font-weight: bold;\n",
       "font-family: monospace;\n",
       "margin-left: 1em;\n",
       "}\n",
       ".mono {\n",
       "font-family: monospace;\n",
       "display: block;\n",
       "}\n",
       ".err-msg {\n",
       "color: red;\n",
       "font-style: italic;\n",
       "font-family: monospace;\n",
       "white-space: pre;\n",
       "display: block;\n",
       "}\n",
       "#unshowable {\n",
       "color: red;\n",
       "font-weight: bold;\n",
       "}\n",
       ".err-msg.in.collapse {\n",
       "padding-top: 0.7em;\n",
       "}\n",
       ".highlight-code {\n",
       "white-space: pre;\n",
       "font-family: monospace;\n",
       "}\n",
       ".suggestion-warning { \n",
       "font-weight: bold;\n",
       "color: rgb(200, 130, 0);\n",
       "}\n",
       ".suggestion-error { \n",
       "font-weight: bold;\n",
       "color: red;\n",
       "}\n",
       ".suggestion-name {\n",
       "font-weight: bold;\n",
       "}\n",
       "</style><div class=\"suggestion-name\" style=\"clear:both;\">Eta reduce</div><div class=\"suggestion-row\" style=\"float: left;\"><div class=\"suggestion-warning\">Found:</div><div class=\"highlight-code\" id=\"haskell\">getFrontier vss v\n",
       "  = filter (\\ x -> (fst x `notElem` vss)) . getCandi \\$ v</div></div><div class=\"suggestion-row\" style=\"float: left;\"><div class=\"suggestion-warning\">Why Not:</div><div class=\"highlight-code\" id=\"haskell\">getFrontier vss = filter (\\ x -> (fst x `notElem` vss)) . getCandi</div></div><div class=\"suggestion-name\" style=\"clear:both;\">Redundant bracket</div><div class=\"suggestion-row\" style=\"float: left;\"><div class=\"suggestion-warning\">Found:</div><div class=\"highlight-code\" id=\"haskell\">\\ x -> (fst x `notElem` vss)</div></div><div class=\"suggestion-row\" style=\"float: left;\"><div class=\"suggestion-warning\">Why Not:</div><div class=\"highlight-code\" id=\"haskell\">\\ x -> fst x `notElem` vss</div></div><div class=\"suggestion-name\" style=\"clear:both;\">Replace case with fromMaybe</div><div class=\"suggestion-row\" style=\"float: left;\"><div class=\"suggestion-warning\">Found:</div><div class=\"highlight-code\" id=\"haskell\">case M.lookup v adjList of\n",
       "    Just candiEs -> candiEs\n",
       "    Nothing -> []</div></div><div class=\"suggestion-row\" style=\"float: left;\"><div class=\"suggestion-warning\">Why Not:</div><div class=\"highlight-code\" id=\"haskell\">Data.Maybe.fromMaybe [] (M.lookup v adjList)</div></div><div class=\"suggestion-name\" style=\"clear:both;\">Collapse lambdas</div><div class=\"suggestion-row\" style=\"float: left;\"><div class=\"suggestion-warning\">Found:</div><div class=\"highlight-code\" id=\"haskell\">\\ h -> \\ (v_neigh, s_path) -> updateWEachV v_neigh s_path h</div></div><div class=\"suggestion-row\" style=\"float: left;\"><div class=\"suggestion-warning\">Why Not:</div><div class=\"highlight-code\" id=\"haskell\">\\ h (v_neigh, s_path) -> updateWEachV v_neigh s_path h</div></div>"
      ],
      "text/plain": [
       "Line 2: Eta reduce\n",
       "Found:\n",
       "getFrontier vss v\n",
       "  = filter (\\ x -> (fst x `notElem` vss)) . getCandi $ v\n",
       "Why not:\n",
       "getFrontier vss = filter (\\ x -> (fst x `notElem` vss)) . getCandiLine 2: Redundant bracket\n",
       "Found:\n",
       "\\ x -> (fst x `notElem` vss)\n",
       "Why not:\n",
       "\\ x -> fst x `notElem` vssLine 6: Replace case with fromMaybe\n",
       "Found:\n",
       "case M.lookup v adjList of\n",
       "    Just candiEs -> candiEs\n",
       "    Nothing -> []\n",
       "Why not:\n",
       "Data.Maybe.fromMaybe [] (M.lookup v adjList)Line 19: Collapse lambdas\n",
       "Found:\n",
       "\\ h -> \\ (v_neigh, s_path) -> updateWEachV v_neigh s_path h\n",
       "Why not:\n",
       "\\ h (v_neigh, s_path) -> updateWEachV v_neigh s_path h"
      ]
     },
     "metadata": {},
     "output_type": "display_data"
    }
   ],
   "source": [
    "getFrontier :: [Vertex] -> Vertex -> [(Vertex, Score)]\n",
    "getFrontier vss v = filter (\\x -> (fst x `notElem` vss)) . getCandi $ v\n",
    "\n",
    "getCandi :: Vertex -> [(Vertex, Score)]\n",
    "getCandi v = \n",
    "    case M.lookup v adjList of\n",
    "        Just candiEs -> candiEs\n",
    "        Nothing -> []\n",
    "\n",
    "updateWEachV :: Vertex -> Score -> Heap -> Heap\n",
    "updateWEachV v s h = let\n",
    "    (_, prev_s, h_del) = deleteView v h\n",
    "    in\n",
    "    if s < prev_s\n",
    "    then insert v s h_del\n",
    "    else insert v prev_s h_del\n",
    "\n",
    "update :: [Vertex] -> Heap -> Vertex -> Score -> Heap\n",
    "update vss h0 v0 s0 = foldl (\\h -> \\(v_neigh, s_path) -> updateWEachV v_neigh s_path h) h0 $ map (\\(v, s) -> (v, s+s0)) $ getFrontier vss v0\n",
    "\n",
    "dijkstra :: Map -> State Heap Map\n",
    "dijkstra m = do\n",
    "    h <- get\n",
    "    let (v_pop, s_pop, h_pop) = minView h\n",
    "    let m_ran = M.insert v_pop s_pop m\n",
    "    let coveredV = M.keys m_ran \n",
    "    let h_after = update coveredV h_pop v_pop s_pop \n",
    "    put h_after\n",
    "    return m_ran"
   ]
  },
  {
   "cell_type": "code",
   "execution_count": 31,
   "metadata": {},
   "outputs": [],
   "source": [
    "runDijkstra :: Map -> Heap -> Map\n",
    "runDijkstra m h = let\n",
    "    (m', h') = runState (dijkstra m) h\n",
    "    in\n",
    "    if (length . M.keys $ m') == (length . M.keys $ m)\n",
    "    then m\n",
    "    else runDijkstra m' h'"
   ]
  },
  {
   "cell_type": "code",
   "execution_count": 32,
   "metadata": {},
   "outputs": [],
   "source": [
    "sPMap = runDijkstra initMap initHeap"
   ]
  },
  {
   "cell_type": "code",
   "execution_count": 33,
   "metadata": {},
   "outputs": [
    {
     "data": {
      "text/html": [
       "<style>/* Styles used for the Hoogle display in the pager */\n",
       ".hoogle-doc {\n",
       "display: block;\n",
       "padding-bottom: 1.3em;\n",
       "padding-left: 0.4em;\n",
       "}\n",
       ".hoogle-code {\n",
       "display: block;\n",
       "font-family: monospace;\n",
       "white-space: pre;\n",
       "}\n",
       ".hoogle-text {\n",
       "display: block;\n",
       "}\n",
       ".hoogle-name {\n",
       "color: green;\n",
       "font-weight: bold;\n",
       "}\n",
       ".hoogle-head {\n",
       "font-weight: bold;\n",
       "}\n",
       ".hoogle-sub {\n",
       "display: block;\n",
       "margin-left: 0.4em;\n",
       "}\n",
       ".hoogle-package {\n",
       "font-weight: bold;\n",
       "font-style: italic;\n",
       "}\n",
       ".hoogle-module {\n",
       "font-weight: bold;\n",
       "}\n",
       ".hoogle-class {\n",
       "font-weight: bold;\n",
       "}\n",
       ".get-type {\n",
       "color: green;\n",
       "font-weight: bold;\n",
       "font-family: monospace;\n",
       "display: block;\n",
       "white-space: pre-wrap;\n",
       "}\n",
       ".show-type {\n",
       "color: green;\n",
       "font-weight: bold;\n",
       "font-family: monospace;\n",
       "margin-left: 1em;\n",
       "}\n",
       ".mono {\n",
       "font-family: monospace;\n",
       "display: block;\n",
       "}\n",
       ".err-msg {\n",
       "color: red;\n",
       "font-style: italic;\n",
       "font-family: monospace;\n",
       "white-space: pre;\n",
       "display: block;\n",
       "}\n",
       "#unshowable {\n",
       "color: red;\n",
       "font-weight: bold;\n",
       "}\n",
       ".err-msg.in.collapse {\n",
       "padding-top: 0.7em;\n",
       "}\n",
       ".highlight-code {\n",
       "white-space: pre;\n",
       "font-family: monospace;\n",
       "}\n",
       ".suggestion-warning { \n",
       "font-weight: bold;\n",
       "color: rgb(200, 130, 0);\n",
       "}\n",
       ".suggestion-error { \n",
       "font-weight: bold;\n",
       "color: red;\n",
       "}\n",
       ".suggestion-name {\n",
       "font-weight: bold;\n",
       "}\n",
       "</style><div class=\"suggestion-name\" style=\"clear:both;\">Eta reduce</div><div class=\"suggestion-row\" style=\"float: left;\"><div class=\"suggestion-warning\">Found:</div><div class=\"highlight-code\" id=\"haskell\">genSolution m vs = map (\\ v -> parse . M.lookup v \\$ m) vs</div></div><div class=\"suggestion-row\" style=\"float: left;\"><div class=\"suggestion-warning\">Why Not:</div><div class=\"highlight-code\" id=\"haskell\">genSolution m = map (\\ v -> parse . M.lookup v \\$ m)</div></div>"
      ],
      "text/plain": [
       "Line 2: Eta reduce\n",
       "Found:\n",
       "genSolution m vs = map (\\ v -> parse . M.lookup v $ m) vs\n",
       "Why not:\n",
       "genSolution m = map (\\ v -> parse . M.lookup v $ m)"
      ]
     },
     "metadata": {},
     "output_type": "display_data"
    }
   ],
   "source": [
    "genSolution :: M.Map Vertex Score -> [Vertex] -> [Score]\n",
    "genSolution m vs = map (\\v -> parse . M.lookup v $ m) vs\n",
    "    where\n",
    "        parse Nothing = 1000000\n",
    "        parse (Just x) = x"
   ]
  },
  {
   "cell_type": "code",
   "execution_count": 34,
   "metadata": {},
   "outputs": [
    {
     "data": {
      "text/plain": [
       "[2599,2610,2947,2052,2367,2399,2029,2442,2505,3068]"
      ]
     },
     "metadata": {},
     "output_type": "display_data"
    }
   ],
   "source": [
    "genSolution sPMap [7,37,59,82,99,115,133,165,188,197]"
   ]
  },
  {
   "cell_type": "code",
   "execution_count": null,
   "metadata": {},
   "outputs": [],
   "source": []
  }
 ],
 "metadata": {
  "kernelspec": {
   "display_name": "Haskell",
   "language": "haskell",
   "name": "haskell"
  },
  "language_info": {
   "codemirror_mode": "ihaskell",
   "file_extension": ".hs",
   "name": "haskell",
   "pygments_lexer": "Haskell",
   "version": "8.6.5"
  }
 },
 "nbformat": 4,
 "nbformat_minor": 2
}
