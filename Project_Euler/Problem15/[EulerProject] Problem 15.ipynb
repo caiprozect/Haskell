{
 "cells": [
  {
   "cell_type": "code",
   "execution_count": 1,
   "metadata": {},
   "outputs": [],
   "source": [
    "latticePath :: Int -> Int -> Integer\n",
    "latticePath x y\n",
    "    | x == 0 = 1\n",
    "    | y == 0 = 1\n",
    "    | otherwise = latticePath (x-1) y + latticePath x (y-1)"
   ]
  },
  {
   "cell_type": "code",
   "execution_count": 2,
   "metadata": {},
   "outputs": [],
   "source": [
    "matrixF :: (Int -> Int -> Integer) -> [[Integer]]\n",
    "matrixF f = genRow f <$> [0..] <*> [[0..]]\n",
    "    where\n",
    "        genRow f x = map (f x)"
   ]
  },
  {
   "cell_type": "code",
   "execution_count": 3,
   "metadata": {},
   "outputs": [],
   "source": [
    "matrix = matrixF fastLP\n",
    "fastLP :: Int -> Int -> Integer\n",
    "fastLP x y\n",
    "    | y == 0 = 1\n",
    "    | x == 0 = 1\n",
    "    | otherwise = matrix !! x !! (y-1) + matrix !! (x-1) !! y"
   ]
  },
  {
   "cell_type": "code",
   "execution_count": 4,
   "metadata": {},
   "outputs": [
    {
     "data": {
      "text/plain": [
       "137846528820"
      ]
     },
     "metadata": {},
     "output_type": "display_data"
    }
   ],
   "source": [
    "fastLP 20 20"
   ]
  },
  {
   "cell_type": "code",
   "execution_count": null,
   "metadata": {},
   "outputs": [],
   "source": []
  }
 ],
 "metadata": {
  "kernelspec": {
   "display_name": "Haskell",
   "language": "haskell",
   "name": "haskell"
  },
  "language_info": {
   "codemirror_mode": "ihaskell",
   "file_extension": ".hs",
   "name": "haskell",
   "pygments_lexer": "Haskell",
   "version": "8.6.5"
  }
 },
 "nbformat": 4,
 "nbformat_minor": 2
}
