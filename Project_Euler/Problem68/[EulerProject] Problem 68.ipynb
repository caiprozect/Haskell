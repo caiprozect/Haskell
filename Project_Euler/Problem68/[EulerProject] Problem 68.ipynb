{
 "cells": [
  {
   "cell_type": "code",
   "execution_count": 1,
   "metadata": {},
   "outputs": [],
   "source": [
    "import Data.List"
   ]
  },
  {
   "cell_type": "code",
   "execution_count": 2,
   "metadata": {},
   "outputs": [
    {
     "data": {
      "text/html": [
       "<style>/* Styles used for the Hoogle display in the pager */\n",
       ".hoogle-doc {\n",
       "display: block;\n",
       "padding-bottom: 1.3em;\n",
       "padding-left: 0.4em;\n",
       "}\n",
       ".hoogle-code {\n",
       "display: block;\n",
       "font-family: monospace;\n",
       "white-space: pre;\n",
       "}\n",
       ".hoogle-text {\n",
       "display: block;\n",
       "}\n",
       ".hoogle-name {\n",
       "color: green;\n",
       "font-weight: bold;\n",
       "}\n",
       ".hoogle-head {\n",
       "font-weight: bold;\n",
       "}\n",
       ".hoogle-sub {\n",
       "display: block;\n",
       "margin-left: 0.4em;\n",
       "}\n",
       ".hoogle-package {\n",
       "font-weight: bold;\n",
       "font-style: italic;\n",
       "}\n",
       ".hoogle-module {\n",
       "font-weight: bold;\n",
       "}\n",
       ".hoogle-class {\n",
       "font-weight: bold;\n",
       "}\n",
       ".get-type {\n",
       "color: green;\n",
       "font-weight: bold;\n",
       "font-family: monospace;\n",
       "display: block;\n",
       "white-space: pre-wrap;\n",
       "}\n",
       ".show-type {\n",
       "color: green;\n",
       "font-weight: bold;\n",
       "font-family: monospace;\n",
       "margin-left: 1em;\n",
       "}\n",
       ".mono {\n",
       "font-family: monospace;\n",
       "display: block;\n",
       "}\n",
       ".err-msg {\n",
       "color: red;\n",
       "font-style: italic;\n",
       "font-family: monospace;\n",
       "white-space: pre;\n",
       "display: block;\n",
       "}\n",
       "#unshowable {\n",
       "color: red;\n",
       "font-weight: bold;\n",
       "}\n",
       ".err-msg.in.collapse {\n",
       "padding-top: 0.7em;\n",
       "}\n",
       ".highlight-code {\n",
       "white-space: pre;\n",
       "font-family: monospace;\n",
       "}\n",
       ".suggestion-warning { \n",
       "font-weight: bold;\n",
       "color: rgb(200, 130, 0);\n",
       "}\n",
       ".suggestion-error { \n",
       "font-weight: bold;\n",
       "color: red;\n",
       "}\n",
       ".suggestion-name {\n",
       "font-weight: bold;\n",
       "}\n",
       "</style><div class=\"suggestion-name\" style=\"clear:both;\">Redundant bracket</div><div class=\"suggestion-row\" style=\"float: left;\"><div class=\"suggestion-warning\">Found:</div><div class=\"highlight-code\" id=\"haskell\">[k : sub_lst | k <- [a .. b],\n",
       " sub_lst <- (subListFrom (k + 1) b (len - 1))]</div></div><div class=\"suggestion-row\" style=\"float: left;\"><div class=\"suggestion-warning\">Why Not:</div><div class=\"highlight-code\" id=\"haskell\">[k : sub_lst | k <- [a .. b],\n",
       " sub_lst <- subListFrom (k + 1) b (len - 1)]</div></div>"
      ],
      "text/plain": [
       "Line 4: Redundant bracket\n",
       "Found:\n",
       "[k : sub_lst | k <- [a .. b],\n",
       " sub_lst <- (subListFrom (k + 1) b (len - 1))]\n",
       "Why not:\n",
       "[k : sub_lst | k <- [a .. b],\n",
       " sub_lst <- subListFrom (k + 1) b (len - 1)]"
      ]
     },
     "metadata": {},
     "output_type": "display_data"
    }
   ],
   "source": [
    "subListFrom :: Int -> Int -> Int -> [[Int]]\n",
    "subListFrom a b len\n",
    "    | len == 0 = [[]]\n",
    "    | otherwise = [k : sub_lst | k <- [a..b], sub_lst <- (subListFrom (k+1) b (len-1))]\n",
    "    \n",
    "reverseList :: [a] -> [a]\n",
    "reverseList [] = []\n",
    "reverseList (x : xs) = reverseList xs ++ [x]\n",
    "\n",
    "permutationList :: [Int] -> [[Int]]\n",
    "permutationList [] = [[]]\n",
    "permutationList lst = [x : sub_lst | x <- lst, sub_lst <- permutationList (delete x lst)]"
   ]
  },
  {
   "cell_type": "code",
   "execution_count": 3,
   "metadata": {},
   "outputs": [],
   "source": [
    "magicNumber = 10\n",
    "polygonNumber = magicNumber `div` 2\n",
    "candidates = subListFrom 1 magicNumber polygonNumber\n",
    "outers = concatMap genO candidates\n",
    "    where genO candi = [head candi : sub_lst | sub_lst <- permutationList $ tail candi]"
   ]
  },
  {
   "cell_type": "code",
   "execution_count": 4,
   "metadata": {},
   "outputs": [],
   "source": [
    "possibleEdge :: [Int] -> [Int] -> [[Int]]\n",
    "possibleEdge outer polygon = [(outer !! (i-1)) : (take 2 . drop (i-1) $ polygon ++ [head polygon]) | i <- [1..polygonNumber]]\n",
    "\n",
    "magicalArrange :: [Int] -> [[Int]]\n",
    "magicalArrange lst = let\n",
    "    remainLst = reverseList $ [1..magicNumber] \\\\ lst\n",
    "    polygons = permutationList remainLst\n",
    "    possibleArrange = map (possibleEdge lst) polygons\n",
    "    expSum = (2 * (sum [1..magicNumber] - sum lst) + sum lst) `div` polygonNumber\n",
    "    check = all (expSum ==) . map sum\n",
    "    in\n",
    "    map concat . filter check $ possibleArrange"
   ]
  },
  {
   "cell_type": "code",
   "execution_count": 5,
   "metadata": {},
   "outputs": [],
   "source": [
    "magicalArrs = sort . concatMap magicalArrange $ outers"
   ]
  },
  {
   "cell_type": "code",
   "execution_count": 6,
   "metadata": {},
   "outputs": [
    {
     "data": {
      "text/plain": [
       "\"6531031914842725\""
      ]
     },
     "metadata": {},
     "output_type": "display_data"
    }
   ],
   "source": [
    "foldr1 (++) . map show . last $ magicalArrs"
   ]
  },
  {
   "cell_type": "code",
   "execution_count": null,
   "metadata": {},
   "outputs": [],
   "source": []
  }
 ],
 "metadata": {
  "kernelspec": {
   "display_name": "Haskell",
   "language": "haskell",
   "name": "haskell"
  },
  "language_info": {
   "codemirror_mode": "ihaskell",
   "file_extension": ".hs",
   "name": "haskell",
   "pygments_lexer": "Haskell",
   "version": "8.6.5"
  }
 },
 "nbformat": 4,
 "nbformat_minor": 2
}
